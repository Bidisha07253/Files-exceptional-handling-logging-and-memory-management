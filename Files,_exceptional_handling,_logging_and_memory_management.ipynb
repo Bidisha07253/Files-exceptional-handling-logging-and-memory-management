{
  "nbformat": 4,
  "nbformat_minor": 0,
  "metadata": {
    "colab": {
      "provenance": []
    },
    "kernelspec": {
      "name": "python3",
      "display_name": "Python 3"
    },
    "language_info": {
      "name": "python"
    }
  },
  "cells": [
    {
      "cell_type": "markdown",
      "source": [
        "#***Theoretical Questions***"
      ],
      "metadata": {
        "id": "lhibvzxciqCz"
      }
    },
    {
      "cell_type": "markdown",
      "source": [
        "1. What is the difference between interpreted and compiled languages?\n",
        "\n",
        "* A compiled language is converted entirely into machine code before execution, while an interpreted language is translated and executed line-by-line at runtime by another program called an interpreter.\n",
        "\n",
        "2. What is exception handling in Python?\n",
        "* An exception is an event that occurs during the executing of programs that disrupt teh normal flow of exception\n",
        "\n",
        "* An exceptiom is a runtime error that can be caught and handelled to prevent your program from stopping unexpectedly\n",
        "\n",
        "3. What is the purpose of the finally block in exception handling?\n",
        "*The primary purpose of the finally block in exception handling is to ensure that a specific section of code is executed regardless of whether an exception is thrown or caught. It is a critical tool for resource management and cleanup operations.\n",
        "\n",
        "4.  What is logging in Python?\n",
        "* The logging Module in python is a build in tool that lets you track events, error, warnings or information in your program while it runs.\n",
        "\n",
        "5. What is the significance of the __del__ method in Python?\n",
        "* Its main significance is to define cleanup actions that should be performed before the object's memory is reclaimed by the garbage collector.\n",
        "\n",
        "6. What is the difference between import and from ... import in Python?\n",
        "* This statement imports the entire module, adding the module name itself to your local namespace. To access any function, class, or variable from that module, you must prefix it with the module's name using dot notation\n",
        "\n",
        "7. How can you handle multiple exceptions in Python?\n",
        "* We can handle multiple exceptions using TRY and Except Block in python.\n",
        "\n",
        "8. What is the purpose of the with statement when handling files in Python?\n",
        "* It will Automatically closes the file when the block ends.\n",
        "* It is cleaner and safer\n",
        "\n",
        "9. What is the difference between multithreading and multiprocessing?\n",
        "* MultiThreading allows you to run mutliple task at the same time within a single program.\n",
        "* It allows a program to run multiple process in parallel, each with its own python interpreter and separate memory space.\n",
        "\n",
        "10. What are the advantages of using logging in a program?\n",
        "* Good for Production and debug\n",
        "* You can filter by events\n",
        "* You can enable and disbale log easily\n",
        "\n",
        "11. What is memory management in Python?\n",
        "* Memory management in Python is the automatic process of allocating and deallocating memory for objects and data structures.\n",
        "\n",
        "12. What are the basic steps involved in exception handling in Python?\n",
        "* The basic steps involved in exception handling in Python are to wrap the code that might cause an error in a try block and then provide one or more except blocks to handle specific exceptions that may be raised. You can also use optional else and finally blocks for additional control flow.\n",
        "\n",
        "13. Why is memory management important in Python?\n",
        "* Memory management is important in Python because it directly impacts a program's performance, stability, and resource usage.\n",
        "\n",
        "14. What is the role of try and except in exception handling?\n",
        "* Try: statements you want to excecute it.\n",
        "* Except: execute when exception occured in try.\n",
        "\n",
        "15. How does Python's garbage collection system work?\n",
        "* Python's garbage collection (GC) system is automatic and primarily relies on two mechanisms that work together: reference counting and a generational garbage collector. This dual approach ensures that memory is efficiently managed and reclaimed, preventing memory leaks, particularly in cases involving circular references.\n",
        "\n",
        "16. What is the purpose of the else block in exception handling?\n",
        "* Else block runs if there is no eceptionn occurs.\n",
        "\n",
        "17. What are the common logging levels in Python?\n",
        "* DEBUG\n",
        "* INFO\n",
        "* WARNING\n",
        "* ERROR\n",
        "* CRITICAL\n",
        "\n",
        "18. What is the difference between os.fork() and multiprocessing in Python?\n",
        "* The key difference between os.fork() and Python's multiprocessing module is that os.fork() is a low-level, operating-system-specific function, while multiprocessing is a high-level, cross-platform library that provides an easy-to-use interface for creating processes. The multiprocessing module often uses os.fork() behind the scenes on Unix-based systems.\n",
        "\n",
        "19. What is the importance of closing a file in Python?\n",
        "* Closing a file in Python is crucial for data integrity, resource management, and program stability.\n",
        "\n",
        "20. What is the difference between file.read() and file.readline() in Python?\n",
        "* The difference between file.read() and file.readline() in Python lies in the amount of data they retrieve from a file and the data type they return.\n",
        "\n",
        "21. What is the logging module in Python used for?\n",
        "* The logging Module in python is a build in tool that lets you track events, error, warnings or information in your program while it runs.\n",
        "\n",
        "22. What is the os module in Python used for in file handling?\n",
        "* The os module in Python provides a portable way to interact with the operating system, allowing you to perform various file and directory management tasks.\n",
        "\n",
        "23. What are the challenges associated with memory management in Python?\n",
        "* The challenges associated with Python's memory management stem from its automatic nature, which, while simplifying development, can lead to complex issues in specific scenarios.\n",
        "\n",
        "24.  How do you raise an exception manually in Python?\n",
        "* In Python, you manually raise an exception using the raise keyword.\n",
        "\n",
        "25. Why is it important to use multithreading in certain applications?\n",
        "* Multithreading is important for applications that need to manage multiple independent tasks concurrently, like webscraping, reading multiple files.\n"
      ],
      "metadata": {
        "id": "U22nL9fbV3ZM"
      }
    },
    {
      "cell_type": "markdown",
      "source": [
        "#**Practical Questions**\n",
        "\n"
      ],
      "metadata": {
        "id": "ok5lXhHgjHJo"
      }
    },
    {
      "cell_type": "code",
      "execution_count": 4,
      "metadata": {
        "id": "BVZop12gVm5G"
      },
      "outputs": [],
      "source": [
        "#1. How can you open a file for writing in Python and write a string to it?\n",
        "\n",
        "with open(\"hello world.txt\", \"w\") as f:\n",
        "  f.write(\"Hello World\")"
      ]
    },
    {
      "cell_type": "code",
      "source": [
        "#2. Write a Python program to read the contents of a file and print each line.\n",
        "\n",
        "with open(\"hello world.txt\", \"r\") as f:\n",
        "  print(f.read())"
      ],
      "metadata": {
        "colab": {
          "base_uri": "https://localhost:8080/"
        },
        "id": "fFyHLiS2ka5L",
        "outputId": "f27928fd-f6ed-47f2-db1f-37eebbd37060"
      },
      "execution_count": 6,
      "outputs": [
        {
          "output_type": "stream",
          "name": "stdout",
          "text": [
            "Hello World\n"
          ]
        }
      ]
    },
    {
      "cell_type": "code",
      "source": [
        "#3. How would you handle a case where the file doesn't exist while trying to open it for reading?\n",
        "\n",
        "file_name = \"data.txt\"\n",
        "\n",
        "try:\n",
        "    with open(file_name, \"r\") as file:\n",
        "        content = file.read()\n",
        "        print(\"File content:\", content)\n",
        "except FileNotFoundError:\n",
        "    print(f\"Error: The file '{file_name}' was not found.\")"
      ],
      "metadata": {
        "colab": {
          "base_uri": "https://localhost:8080/"
        },
        "id": "xcg_Wkl5kbTn",
        "outputId": "ce874c69-1dce-4a0c-a106-ffc99a72b3dc"
      },
      "execution_count": 7,
      "outputs": [
        {
          "output_type": "stream",
          "name": "stdout",
          "text": [
            "Error: The file 'data.txt' was not found.\n"
          ]
        }
      ]
    },
    {
      "cell_type": "code",
      "source": [
        "#4. Write a Python script that reads from one file and writes its content to another file.\n",
        "\n",
        "def copy_file_content(source_file_path, destination_file_path):\n",
        "    \"\"\"\n",
        "    Copies the content of a source file to a destination file.\n",
        "\n",
        "    Args:\n",
        "        source_file_path (str): The path to the source file.\n",
        "        destination_file_path (str): The path to the destination file.\n",
        "    \"\"\"\n",
        "    try:\n",
        "        with open(source_file_path, 'r') as source_file:\n",
        "            content = source_file.read()\n",
        "\n",
        "        with open(destination_file_path, 'w') as destination_file:\n",
        "            destination_file.write(content)\n",
        "\n",
        "            print(f\"Content successfully copied from '{source_file_path}' to '{destination_file_path}'.\")\n",
        "\n",
        "    except FileNotFoundError:\n",
        "        print(f\"Error: The file '{source_file_path}' was not found.\")\n",
        "\n",
        "    except Exception as e:\n",
        "        print(f\"An error occurred: {e}\")\n",
        "\n",
        "\n",
        "copy_file_content(source_path, destination_path)\n",
        "\n",
        "with open(source_path, \"w\") as f:\n",
        "    f.write(\"This is line one.\\n\")\n",
        "    f.write(\"This is line two.\\n\")\n",
        "    f.write(\"And the final line.\")\n"
      ],
      "metadata": {
        "colab": {
          "base_uri": "https://localhost:8080/"
        },
        "id": "RiHS_UmrgW3b",
        "outputId": "abc8efa1-0904-485e-8955-bc5c29dcc396"
      },
      "execution_count": 4,
      "outputs": [
        {
          "output_type": "stream",
          "name": "stdout",
          "text": [
            "Content successfully copied from 'source.txt' to 'destination.txt'.\n"
          ]
        }
      ]
    },
    {
      "cell_type": "code",
      "source": [
        "#5. How would you catch and handle division by zero error in Python?\n",
        "\n",
        "def divide_numbers(a, b):\n",
        "    try:\n",
        "        result = a / b\n",
        "        print(f\"The result of {a} divided by {b} is: {result}\")\n",
        "    except ZeroDivisionError:\n",
        "        print(\"Error: Division by zero is not allowed.\")\n",
        "\n",
        ""
      ],
      "metadata": {
        "id": "Da4RuZLFkbZd"
      },
      "execution_count": 12,
      "outputs": []
    },
    {
      "cell_type": "code",
      "source": [
        "try:\n",
        "    divide_numbers(10, 0)\n",
        "except ZeroDivisionError as e:\n",
        "    print(e)"
      ],
      "metadata": {
        "colab": {
          "base_uri": "https://localhost:8080/"
        },
        "id": "2EmpWGjYnKCB",
        "outputId": "fb93d216-9fbb-43e5-e94e-1531d186bec9"
      },
      "execution_count": 13,
      "outputs": [
        {
          "output_type": "stream",
          "name": "stdout",
          "text": [
            "Error: Division by zero is not allowed.\n"
          ]
        }
      ]
    },
    {
      "cell_type": "code",
      "source": [
        "#6. Write a Python program that logs an error message to a log file when a division by zero exception occurs.\n",
        "\n",
        "try:\n",
        "  a=10\n",
        "  b=0\n",
        "  result = a/b\n",
        "except:\n",
        "    print(\"error occured\")\n"
      ],
      "metadata": {
        "colab": {
          "base_uri": "https://localhost:8080/"
        },
        "id": "4Gm4kGOPkbb4",
        "outputId": "a81360b7-5f3c-4e34-df07-409244f1a433"
      },
      "execution_count": 20,
      "outputs": [
        {
          "output_type": "stream",
          "name": "stdout",
          "text": [
            "error occured\n"
          ]
        }
      ]
    },
    {
      "cell_type": "code",
      "source": [
        "#7. How do you log information at different levels (INFO, ERROR, WARNING) in Python using the logging module?\n",
        "\n",
        "import logging\n",
        "\n",
        "logging.info(\"This is an info message\")\n",
        "logging.warning(\"This is an warining message\")\n",
        "logging.error(\"This is an Error message\")"
      ],
      "metadata": {
        "colab": {
          "base_uri": "https://localhost:8080/"
        },
        "id": "gdLbKXSkkbeb",
        "outputId": "584329fb-e9c6-4f3e-ed86-0a65f9d00352"
      },
      "execution_count": 27,
      "outputs": [
        {
          "output_type": "stream",
          "name": "stderr",
          "text": [
            "INFO:root:This is an info message\n",
            "WARNING:root:This is an warining message\n",
            "ERROR:root:This is an Error message\n"
          ]
        }
      ]
    },
    {
      "cell_type": "code",
      "source": [
        "#8.  Write a program to handle a file opening error using exception handling.\n",
        "\n",
        "import sys\n",
        "\n",
        "def read_file_content(filename):\n",
        "    \"\"\"\n",
        "    Attempts to read and print the content of a file.\n",
        "    Handles FileNotFoundError gracefully if the file does not exist.\n",
        "    \"\"\"\n",
        "    try:\n",
        "        # The 'with' statement ensures the file is properly closed\n",
        "        with open(filename, 'r') as file:\n",
        "            content = file.read()\n",
        "            print(f\"--- Content of {filename} ---\")\n",
        "            print(content)\n",
        "            print(\"---------------------------------\")\n",
        "    except FileNotFoundError:\n",
        "        print(f\"Error: The file '{filename}' was not found.\")\n",
        "        print(\"Please check the file name and path and try again.\")\n",
        "    except Exception as e:\n",
        "        # Catch any other potential file-related errors\n",
        "        print(f\"An unexpected error occurred while accessing the file: {e}\")\n",
        "\n",
        "# --- Example Usage ---\n",
        "\n",
        "# Case 1: File exists and is read successfully\n",
        "print(\"Attempting to read from 'existing_file.txt'...\")\n",
        "# Create a dummy file for this example\n",
        "with open('existing_file.txt', 'w') as f:\n",
        "    f.write(\"Hello, World!\\nThis is a test file.\")\n",
        "read_file_content('existing_file.txt')\n",
        "\n",
        "print(\"\\n\" + \"=\"*35 + \"\\n\")\n",
        "\n",
        "# Case 2: File does NOT exist, triggering an exception\n",
        "print(\"Attempting to read from 'non_existent_file.txt'...\")\n",
        "read_file_content('non_existent_file.txt')"
      ],
      "metadata": {
        "colab": {
          "base_uri": "https://localhost:8080/"
        },
        "id": "JGrywv6hkbgr",
        "outputId": "5f12d8d0-771f-4cef-f1ba-94f2561b3487"
      },
      "execution_count": 31,
      "outputs": [
        {
          "output_type": "stream",
          "name": "stdout",
          "text": [
            "Attempting to read from 'existing_file.txt'...\n",
            "--- Content of existing_file.txt ---\n",
            "Hello, World!\n",
            "This is a test file.\n",
            "---------------------------------\n",
            "\n",
            "===================================\n",
            "\n",
            "Attempting to read from 'non_existent_file.txt'...\n",
            "Error: The file 'non_existent_file.txt' was not found.\n",
            "Please check the file name and path and try again.\n"
          ]
        }
      ]
    },
    {
      "cell_type": "code",
      "source": [
        "#9. How can you read a file line by line and store its content in a list in Python?\n",
        "\n",
        "with open(\"hello world.txt\", \"r\") as f:\n",
        "  print(f.readlines())"
      ],
      "metadata": {
        "colab": {
          "base_uri": "https://localhost:8080/"
        },
        "id": "WU_m0QFakbi7",
        "outputId": "f999171a-cb66-4f0a-f940-ebcc5df8f2d5"
      },
      "execution_count": 33,
      "outputs": [
        {
          "output_type": "stream",
          "name": "stdout",
          "text": [
            "['Hello World']\n"
          ]
        }
      ]
    },
    {
      "cell_type": "code",
      "source": [
        "#10. How can you append data to an existing file in Python?\n",
        "\n",
        "with open(\"hello world.txt\", \"a\") as f:\n",
        "  f.write(\"Hello World\")\n",
        "\n",
        "  with open(\"hello world.txt\", \"r\") as f:\n",
        "    print(f.read())"
      ],
      "metadata": {
        "colab": {
          "base_uri": "https://localhost:8080/"
        },
        "id": "vMI657PYkbk0",
        "outputId": "0a06dda2-8cfc-480a-a6c6-4181b62a838e"
      },
      "execution_count": 15,
      "outputs": [
        {
          "output_type": "stream",
          "name": "stdout",
          "text": [
            "Hello World\n"
          ]
        }
      ]
    },
    {
      "cell_type": "code",
      "source": [
        "#11. Write a Python program that uses a try-except block to handle an error when attempting to access a dictionary key that doesn't exist\n",
        "my_dict = {'a': 1, 'b': 2, 'c': 3}\n",
        "try:\n",
        "    print(my_dict['d'])\n",
        "except KeyError:\n",
        "    print(\"Error: Key not found in dictionary\")\n"
      ],
      "metadata": {
        "colab": {
          "base_uri": "https://localhost:8080/"
        },
        "id": "xlRN5VZGlHTC",
        "outputId": "4197a174-3d33-48a1-ae1c-ae4a9ffa5c3e"
      },
      "execution_count": 35,
      "outputs": [
        {
          "output_type": "stream",
          "name": "stdout",
          "text": [
            "Error: Key not found in dictionary\n"
          ]
        }
      ]
    },
    {
      "cell_type": "code",
      "source": [
        "#12. Write a program that demonstrates using multiple except blocks to handle different types of exceptions.\n",
        "\n",
        "try:\n",
        "    result = 10 / 0  # This will raise a ZeroDivisionError\n",
        "except ZeroDivisionError:\n",
        "    print(\"Error: Division by zero\")\n",
        "except ValueError:\n",
        "    print(\"Error: Invalid value\")"
      ],
      "metadata": {
        "colab": {
          "base_uri": "https://localhost:8080/"
        },
        "id": "Rz5qSpoUlHaF",
        "outputId": "55bf0001-9822-47f4-c056-7a61712d71ae"
      },
      "execution_count": 36,
      "outputs": [
        {
          "output_type": "stream",
          "name": "stdout",
          "text": [
            "Error: Division by zero\n"
          ]
        }
      ]
    },
    {
      "cell_type": "code",
      "source": [
        "#13. How would you check if a file exists before attempting to read it in Python?\n",
        "\n",
        "import os\n",
        "\n",
        "file_path = \"hello world.txt\"\n",
        "\n",
        "if os.path.exists(file_path):\n",
        "    with open(file_path, \"r\") as f:\n",
        "        print(f.read())\n",
        "\n",
        "else:\n",
        "    print(f\"Error: The file '{file_path}' does not exist.\")\n",
        "\n",
        "\n"
      ],
      "metadata": {
        "colab": {
          "base_uri": "https://localhost:8080/"
        },
        "id": "z5po2N5PlHcd",
        "outputId": "43d9314e-cb10-46ba-fa1e-19306108b868"
      },
      "execution_count": 49,
      "outputs": [
        {
          "output_type": "stream",
          "name": "stdout",
          "text": [
            "Hello WorldHello World\n"
          ]
        }
      ]
    },
    {
      "cell_type": "code",
      "source": [
        "#14. Write a program that uses the logging module to log both informational and error messages.\n",
        "\n",
        "import logging\n",
        "\n",
        "logging.basicConfig(level=logging.INFO)\n",
        "logging.info(\"This is an info message\")\n",
        "\n",
        "logging.basicConfig(level=logging.ERROR)\n",
        "logging.error(\"This is an error message\")"
      ],
      "metadata": {
        "colab": {
          "base_uri": "https://localhost:8080/"
        },
        "id": "oTUuR4folHfD",
        "outputId": "043b4565-5e16-4043-df3e-838cd5ea1cdf"
      },
      "execution_count": 37,
      "outputs": [
        {
          "output_type": "stream",
          "name": "stderr",
          "text": [
            "INFO:root:This is an info message\n",
            "ERROR:root:This is an error message\n"
          ]
        }
      ]
    },
    {
      "cell_type": "code",
      "source": [
        "#15. Write a Python program that prints the content of a file and handles the case when the file is empty.\n",
        "\n",
        "def print_file_content(file_path):\n",
        "    try:\n",
        "        with open(file_path, 'r') as file:\n",
        "            content = file.read()\n",
        "            if content:\n",
        "                print(content)\n",
        "            else:\n",
        "                print(f\"The file '{file_path}' is empty.\")\n",
        "    except FileNotFoundError:\n",
        "        print(f\"Error: The file '{file_path}' was not found.\")\n",
        "    except Exception as e:\n",
        "        print(f\"An error occurred: {e}\")\n",
        "        file_path = 'example.txt'\n",
        "        print_file_content(file_path)\n",
        "\n",
        "        file_path = 'empty_file.txt'\n",
        "        print_file_content(file_path)\n",
        "\n",
        "        file_path = 'non_existent_file.txt'\n",
        "        print_file_content(file_path)\n",
        "\n",
        "    except IOError as e:\n",
        "        print(f\"An I/O error occurred while reading '{file_path}': {e}\")\n",
        "    except Exception as e:\n",
        "        print(f\"An unexpected error occurred: {e}\")\n",
        "open(\"empty_file.txt\", \"w\").close()\n",
        "print_file_content(\"test_file.txt\")\n"
      ],
      "metadata": {
        "colab": {
          "base_uri": "https://localhost:8080/"
        },
        "id": "hZO4Kd6plHhr",
        "outputId": "4bfb0d04-7be3-4334-81db-bd5852cb2378"
      },
      "execution_count": 19,
      "outputs": [
        {
          "output_type": "stream",
          "name": "stdout",
          "text": [
            "Error: The file 'test_file.txt' was not found.\n"
          ]
        }
      ]
    },
    {
      "cell_type": "code",
      "source": [
        "#16. Demonstrate how to use memory profiling to check the memory usage of a small program.\n",
        "\n",
        "!pip install memory_profiler\n",
        "\n",
        "from memory_profiler import profile\n",
        "\n",
        "# A memory-inefficient function\n",
        "@profile\n",
        "def create_large_list():\n",
        "    \"\"\"\n",
        "    Creates a large list of strings, which is memory intensive.\n",
        "    \"\"\"\n",
        "    a = [f'long_string_{i}' for i in range(1000000)]\n",
        "    b = [f'long_string_duplicate_{i}' for i in range(1000000)]\n",
        "    return a, b\n",
        "\n",
        "# A more memory-efficient function using a generator\n",
        "@profile\n",
        "def create_large_generator():\n",
        "    \"\"\"\n",
        "    Creates a generator, which is more memory efficient.\n",
        "    \"\"\"\n",
        "    a = (f'long_string_{i}' for i in range(1000000))\n",
        "    b = (f'long_string_duplicate_{i}' for i in range(1000000))\n",
        "    return a, b\n",
        "\n",
        "if __name__ == \"__main__\":\n",
        "    print(\"--- Profiling memory-intensive list creation ---\")\n",
        "    list_a, list_b = create_large_list()\n",
        "\n",
        "    print(\"\\n--- Profiling memory-efficient generator creation ---\")\n",
        "    gen_a, gen_b = create_large_generator()\n"
      ],
      "metadata": {
        "colab": {
          "base_uri": "https://localhost:8080/"
        },
        "id": "9BHPrGTplHj8",
        "outputId": "696c9f2d-9fd3-4c72-c7c3-e0c2b9738414"
      },
      "execution_count": 58,
      "outputs": [
        {
          "output_type": "stream",
          "name": "stdout",
          "text": [
            "Collecting memory_profiler\n",
            "  Downloading memory_profiler-0.61.0-py3-none-any.whl.metadata (20 kB)\n",
            "Requirement already satisfied: psutil in /usr/local/lib/python3.12/dist-packages (from memory_profiler) (5.9.5)\n",
            "Downloading memory_profiler-0.61.0-py3-none-any.whl (31 kB)\n",
            "Installing collected packages: memory_profiler\n",
            "Successfully installed memory_profiler-0.61.0\n",
            "--- Profiling memory-intensive list creation ---\n",
            "ERROR: Could not find file /tmp/ipython-input-1184726999.py\n",
            "\n",
            "--- Profiling memory-efficient generator creation ---\n",
            "ERROR: Could not find file /tmp/ipython-input-1184726999.py\n"
          ]
        }
      ]
    },
    {
      "cell_type": "code",
      "source": [
        "#17. Write a Python program to create and write a list of numbers to a file, one number per line.\n",
        "\n",
        "color = ['Red', 'Green', 'White', 'Black', 'Pink', 'Yellow']\n",
        "with open('abc.txt', \"w\") as myfile:\n",
        "        for c in color:\n",
        "                myfile.write(\"%s\\n\" % c)\n",
        "\n",
        "content = open('abc.txt')\n",
        "print(content.read())\n",
        "\n"
      ],
      "metadata": {
        "colab": {
          "base_uri": "https://localhost:8080/"
        },
        "id": "aVR2TvBllHmK",
        "outputId": "30e961b7-0f06-47d4-ec7b-f59d3d613014"
      },
      "execution_count": 26,
      "outputs": [
        {
          "output_type": "stream",
          "name": "stdout",
          "text": [
            "Red\n",
            "Green\n",
            "White\n",
            "Black\n",
            "Pink\n",
            "Yellow\n",
            "\n"
          ]
        }
      ]
    },
    {
      "cell_type": "code",
      "source": [
        "#18. How would you implement a basic logging setup that logs to a file with rotation after 1MB?\n",
        "\n",
        "import logging\n",
        "from logging.handlers import RotatingFileHandler\n",
        "import os\n",
        "\n",
        "LOG_FILE = \"application.log\"\n",
        "MAX_LOG_SIZE_BYTES = 1 * 1024 * 1024  # 1 MB\n",
        "BACKUP_COUNT = 5\n",
        "\n",
        "logger = logging.getLogger(__name__)\n",
        "logger.setLevel(logging.INFO)\n",
        "\n",
        "handler = RotatingFileHandler(LOG_FILE, maxBytes=MAX_LOG_SIZE_BYTES, backupCount=BACKUP_COUNT)\n",
        "logger.addHandler(handler)\n",
        "\n",
        "logger.info(\"This is an info message\")\n",
        "\n",
        "handler = RotatingFileHandler(\n",
        "    LOG_FILE, maxBytes=MAX_LOG_SIZE_BYTES, backupCount=BACKUP_COUNT\n",
        "    )\n",
        "formatter = logging.Formatter(\"%(asctime)s - %(name)s - %(levelname)s - %(message)s\")\n",
        "\n",
        "handler.setFormatter(formatter)\n",
        "\n",
        "logger.addHandler(handler)\n",
        "\n",
        "print(f\"Logs are being written to {os.path.abspath(LOG_FILE)}\")\n"
      ],
      "metadata": {
        "colab": {
          "base_uri": "https://localhost:8080/"
        },
        "id": "z70EvvsXlHoh",
        "outputId": "951a9cae-11fa-491e-eb2b-5e8d0f82d54b"
      },
      "execution_count": 19,
      "outputs": [
        {
          "output_type": "stream",
          "name": "stderr",
          "text": [
            "INFO:__main__:This is an info message\n"
          ]
        },
        {
          "output_type": "stream",
          "name": "stdout",
          "text": [
            "Logs are being written to /content/application.log\n"
          ]
        }
      ]
    },
    {
      "cell_type": "code",
      "source": [
        "#19. Write a program that handles both IndexError and KeyError using a try-except block.\n",
        "\n",
        "my_list = [1, 2, 3]\n",
        "my_dict = {'a': 1, 'b': 2, 'c': 3}\n",
        "\n",
        "try:\n",
        "    print(my_list[3])  # This will raise an IndexError\n",
        "except IndexError:\n",
        "    print(\"Error: Index out of range\")\n",
        "\n",
        "    try:\n",
        "        print(my_dict['d'])  # This will raise a KeyError\n",
        "    except KeyError:\n",
        "        print(\"Error: Key not found in dictionary\")\n",
        "\n",
        ""
      ],
      "metadata": {
        "colab": {
          "base_uri": "https://localhost:8080/"
        },
        "id": "kw9mj-z3lHrA",
        "outputId": "580052c0-f675-4f29-f9a5-406f4c5f3369"
      },
      "execution_count": 46,
      "outputs": [
        {
          "output_type": "stream",
          "name": "stdout",
          "text": [
            "Error: Index out of range\n",
            "Error: Key not found in dictionary\n"
          ]
        }
      ]
    },
    {
      "cell_type": "code",
      "source": [
        "#20. How would you open a file and read its contents using a context manager in Python?\n",
        "\n",
        "with open(\"hello world.txt\", \"r\") as f:\n",
        "  print(f.read())"
      ],
      "metadata": {
        "colab": {
          "base_uri": "https://localhost:8080/"
        },
        "id": "791uqq7clHtm",
        "outputId": "57c01289-a357-42a9-c377-77b0b2e2bd03"
      },
      "execution_count": 44,
      "outputs": [
        {
          "output_type": "stream",
          "name": "stdout",
          "text": [
            "Hello WorldHello World\n"
          ]
        }
      ]
    },
    {
      "cell_type": "code",
      "source": [
        "#21. Write a Python program that reads a file and prints the number of occurrences of a specific word.\n",
        "\n",
        "with open(\"hello world.txt\", \"r\") as f:\n",
        "  print(f.read().count(\"Hello\"))\n"
      ],
      "metadata": {
        "colab": {
          "base_uri": "https://localhost:8080/"
        },
        "id": "29IZQgM6lHwO",
        "outputId": "a7fcc6ac-ac66-433d-8ce1-f67012d3aca8"
      },
      "execution_count": 47,
      "outputs": [
        {
          "output_type": "stream",
          "name": "stdout",
          "text": [
            "2\n"
          ]
        }
      ]
    },
    {
      "cell_type": "code",
      "source": [
        "#22. How can you check if a file is empty before attempting to read its contents.\n",
        "\n",
        "import os\n",
        "\n",
        "def process_file_by_size(filename):\n",
        "    \"\"\"\n",
        "    Checks if a file is empty by its size and processes it if not.\n",
        "    \"\"\"\n",
        "    try:\n",
        "        if os.path.getsize(filename) > 0:\n",
        "            with open(filename, 'r') as file:\n",
        "                content = file.read()\n",
        "                print(\"File content:\\n\", content)\n",
        "        else:\n",
        "            print(\"The file is empty.\")\n",
        "    except FileNotFoundError:\n",
        "        print(f\"Error: The file '{filename}' was not found.\")\n",
        "\n",
        "# Example usage:\n",
        "# Create a dummy file with content\n",
        "with open('non_empty_file.txt', 'w') as f:\n",
        "    f.write(\"Some data here.\")\n",
        "\n",
        "# Create an empty dummy file\n",
        "with open('empty_file.txt', 'w') as f:\n",
        "    pass\n",
        "\n",
        "process_file_by_size('non_empty_file.txt')\n",
        "process_file_by_size('empty_file.txt')\n",
        "process_file_by_size('non_existent_file.txt')\n"
      ],
      "metadata": {
        "colab": {
          "base_uri": "https://localhost:8080/"
        },
        "id": "ia4mTIqgsNJO",
        "outputId": "68220219-4fb3-466c-8f42-d4dc5e69b91f"
      },
      "execution_count": 48,
      "outputs": [
        {
          "output_type": "stream",
          "name": "stdout",
          "text": [
            "File content:\n",
            " Some data here.\n",
            "The file is empty.\n",
            "Error: The file 'non_existent_file.txt' was not found.\n"
          ]
        }
      ]
    },
    {
      "cell_type": "code",
      "source": [
        "#23. Write a Python program that writes to a log file when an error occurs during file handling.\n",
        "\n",
        "import logging\n",
        "\n",
        "logging.basicConfig(filename='error.log', level=logging.ERROR)\n",
        "\n",
        "try:\n",
        "    # Attempt to open a file for reading\n",
        "    with open('non_existent_file.txt', 'r') as file:\n",
        "        content = file.read()\n",
        "        print(content)\n",
        "except FileNotFoundError:\n",
        "    # Log the error if the file is not found\n",
        "    logging.error('File not found: non_existent_file.txt')\n",
        "\n"
      ],
      "metadata": {
        "colab": {
          "base_uri": "https://localhost:8080/"
        },
        "id": "MTJdnDwasNSb",
        "outputId": "c0e6f0f6-5404-4d5f-e4ac-17c4b8c10517"
      },
      "execution_count": 65,
      "outputs": [
        {
          "output_type": "stream",
          "name": "stderr",
          "text": [
            "ERROR:root:File not found: non_existent_file.txt\n"
          ]
        }
      ]
    }
  ]
}